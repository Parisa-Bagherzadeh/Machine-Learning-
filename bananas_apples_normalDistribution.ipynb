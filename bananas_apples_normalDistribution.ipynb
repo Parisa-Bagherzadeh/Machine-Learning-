{
 "cells": [
  {
   "cell_type": "code",
   "execution_count": 2,
   "id": "69459eee-e3ca-4db7-b3ba-9dbc1f5d61ed",
   "metadata": {},
   "outputs": [],
   "source": [
    "import numpy as np\n",
    "import pandas as pd\n",
    "import matplotlib.pyplot as plt\n",
    "\n",
    "\n"
   ]
  },
  {
   "cell_type": "code",
   "execution_count": 3,
   "id": "ec650dd0-3e16-4a65-9da0-d864eb41f716",
   "metadata": {},
   "outputs": [
    {
     "data": {
      "text/html": [
       "<div>\n",
       "<style scoped>\n",
       "    .dataframe tbody tr th:only-of-type {\n",
       "        vertical-align: middle;\n",
       "    }\n",
       "\n",
       "    .dataframe tbody tr th {\n",
       "        vertical-align: top;\n",
       "    }\n",
       "\n",
       "    .dataframe thead th {\n",
       "        text-align: right;\n",
       "    }\n",
       "</style>\n",
       "<table border=\"1\" class=\"dataframe\">\n",
       "  <thead>\n",
       "    <tr style=\"text-align: right;\">\n",
       "      <th></th>\n",
       "      <th>X</th>\n",
       "      <th>Y</th>\n",
       "    </tr>\n",
       "  </thead>\n",
       "  <tbody>\n",
       "    <tr>\n",
       "      <th>0</th>\n",
       "      <td>0.655210</td>\n",
       "      <td>-5.1815</td>\n",
       "    </tr>\n",
       "    <tr>\n",
       "      <th>1</th>\n",
       "      <td>0.752910</td>\n",
       "      <td>-4.6796</td>\n",
       "    </tr>\n",
       "    <tr>\n",
       "      <th>2</th>\n",
       "      <td>0.810860</td>\n",
       "      <td>-3.6935</td>\n",
       "    </tr>\n",
       "    <tr>\n",
       "      <th>3</th>\n",
       "      <td>0.048427</td>\n",
       "      <td>-1.2416</td>\n",
       "    </tr>\n",
       "    <tr>\n",
       "      <th>4</th>\n",
       "      <td>0.414710</td>\n",
       "      <td>-2.1358</td>\n",
       "    </tr>\n",
       "  </tbody>\n",
       "</table>\n",
       "</div>"
      ],
      "text/plain": [
       "          X       Y\n",
       "0  0.655210 -5.1815\n",
       "1  0.752910 -4.6796\n",
       "2  0.810860 -3.6935\n",
       "3  0.048427 -1.2416\n",
       "4  0.414710 -2.1358"
      ]
     },
     "execution_count": 3,
     "metadata": {},
     "output_type": "execute_result"
    }
   ],
   "source": [
    "data=pd.read_csv('regressionOutliers.csv')\n",
    "data.head()"
   ]
  },
  {
   "cell_type": "code",
   "execution_count": 4,
   "id": "247cb60e-1f5d-445c-b9c5-80e68916fa7d",
   "metadata": {},
   "outputs": [
    {
     "name": "stdout",
     "output_type": "stream",
     "text": [
      "<class 'pandas.core.series.Series'>\n"
     ]
    }
   ],
   "source": [
    "X=data['X']\n",
    "Y=data['Y']\n",
    "print(type(Y))"
   ]
  },
  {
   "cell_type": "code",
   "execution_count": 5,
   "id": "ac9ae727-ff71-4528-ab8d-d08d5c9fa502",
   "metadata": {},
   "outputs": [
    {
     "name": "stdout",
     "output_type": "stream",
     "text": [
      "<class 'numpy.ndarray'>\n"
     ]
    }
   ],
   "source": [
    "X=np.array(X)\n",
    "print(type(X))\n",
    "Y=np.array(Y)"
   ]
  },
  {
   "cell_type": "code",
   "execution_count": 6,
   "id": "437ccc52-e275-4624-bdef-b06d7fb39365",
   "metadata": {},
   "outputs": [
    {
     "data": {
      "text/plain": [
       "Text(0, 0.5, 'Y')"
      ]
     },
     "execution_count": 6,
     "metadata": {},
     "output_type": "execute_result"
    },
    {
     "data": {
      "image/png": "[encoded data removed]",
      "text/plain": [
       "<Figure size 432x288 with 1 Axes>"
      ]
     },
     "metadata": {
      "needs_background": "light"
     },
     "output_type": "display_data"
    }
   ],
   "source": [
    "plt.scatter(X,Y)\n",
    "plt.xlabel('X')\n",
    "plt.ylabel('Y')"
   ]
  },
  {
   "cell_type": "code",
   "execution_count": 8,
   "id": "8f580ea7-cdd1-4d20-9017-32d61bb8e2d5",
   "metadata": {},
   "outputs": [],
   "source": [
    "#Banana_width=4\n",
    "#Banana_length=8\n",
    "#Apple_width=6\n",
    "#Apple_length=6\n",
    "\n",
    "N=1000\n",
    "std=1.5\n",
    "\n",
    "bananas_width=np.random.normal(4,std,N)\n",
    "bananas_length=np.random.normal(8,std,N)\n",
    "\n",
    "apples_width=np.random.normal(6,std,N)\n",
    "apples_length=np.random.normal(6,std,N)\n",
    "\n",
    "width=np.concatenate((bananas_width,apples_width))\n",
    "length=np.concatenate((bananas_length,apples_length))\n",
    "X=np.array([width,length]).T\n",
    "\n",
    "bananas_label=np.zeros(N, dtype='int')\n",
    "apples_label=np.ones(N, dtype='int')\n",
    "\n",
    "Y=np.concatenate((bananas_label,apples_label))\n",
    "\n",
    "\n",
    "\n"
   ]
  },
  {
   "cell_type": "code",
   "execution_count": 30,
   "id": "bb0ddbfd-f031-4cd1-bc41-0ba20f0f450b",
   "metadata": {},
   "outputs": [
    {
     "data": {
      "text/plain": [
       "(2000, 2)"
      ]
     },
     "execution_count": 30,
     "metadata": {},
     "output_type": "execute_result"
    }
   ],
   "source": [
    "X.shape\n"
   ]
  },
  {
   "cell_type": "code",
   "execution_count": 31,
   "id": "6cd558cd-b4c1-47a1-a569-e39d5927a21e",
   "metadata": {},
   "outputs": [
    {
     "data": {
      "text/plain": [
       "(2000,)"
      ]
     },
     "execution_count": 31,
     "metadata": {},
     "output_type": "execute_result"
    }
   ],
   "source": [
    "Y.shape"
   ]
  },
  {
   "cell_type": "code",
   "execution_count": 9,
   "id": "1018841f-cecb-4cea-91f1-af937afe5637",
   "metadata": {},
   "outputs": [
    {
     "data": {
      "text/plain": [
       "Text(0, 0.5, 'Length')"
      ]
     },
     "execution_count": 9,
     "metadata": {},
     "output_type": "execute_result"
    },
    {
     "data": {
      "image/png": "[encoded data removed]",
      "text/plain": [
       "<Figure size 432x288 with 1 Axes>"
      ]
     },
     "metadata": {
      "needs_background": "light"
     },
     "output_type": "display_data"
    }
   ],
   "source": [
    "plt.scatter(X[0:N,0],X[0:N,1],c='yellow')\n",
    "plt.scatter(X[N:,0],X[N:,1],c='red')\n",
    "plt.xlabel('Width')\n",
    "plt.ylabel('Length')"
   ]
  },
  {
   "cell_type": "code",
   "execution_count": null,
   "id": "a8278db0-1049-464f-a399-befbadc6b961",
   "metadata": {},
   "outputs": [],
   "source": []
  },
  {
   "cell_type": "code",
   "execution_count": null,
   "id": "acec910f-a1bd-4489-b73a-fd30f68f644d",
   "metadata": {},
   "outputs": [],
   "source": []
  }
 ],
 "metadata": {
  "kernelspec": {
   "display_name": "Python 3 (ipykernel)",
   "language": "python",
   "name": "python3"
  },
  "language_info": {
   "codemirror_mode": {
    "name": "ipython",
    "version": 3
   },
   "file_extension": ".py",
   "mimetype": "text/x-python",
   "name": "python",
   "nbconvert_exporter": "python",
   "pygments_lexer": "ipython3",
   "version": "3.7.9"
  }
 },
 "nbformat": 4,
 "nbformat_minor": 5
}
